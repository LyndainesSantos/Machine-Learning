{
 "cells": [
  {
   "cell_type": "code",
   "execution_count": 1,
   "id": "1197d5db",
   "metadata": {},
   "outputs": [],
   "source": [
    "from sklearn.datasets import load_diabetes\n",
    "from sklearn.model_selection import train_test_split, KFold\n",
    "from sklearn.linear_model import LinearRegression\n",
    "from sklearn.metrics import mean_squared_error\n",
    "import numpy as np\n",
    "\n",
    "# Carregando o dataset de diabetes\n",
    "data = load_diabetes()\n",
    "X, y = data.data, data.target\n",
    "\n",
    "X_train, X_test, y_train, y_test = train_test_split(X, y, test_size=0.2, random_state=42)\n",
    "\n",
    "# Inicializando o modelo de Regressão Linear\n",
    "model = LinearRegression()"
   ]
  },
  {
   "cell_type": "code",
   "execution_count": 2,
   "id": "bf93337c",
   "metadata": {},
   "outputs": [],
   "source": [
    "# Inicializando o objeto KFold\n",
    "# Sintaxe: kf = KFold(n_splits = número de folds)\n"
   ]
  },
  {
   "cell_type": "code",
   "execution_count": 3,
   "id": "c4f67918",
   "metadata": {},
   "outputs": [],
   "source": [
    "# Lista para armazenar os erros quadráticos médios (MSE) de cada fold\n",
    "\n",
    "\n",
    "# Iterando sobre os folds\n",
    "\n",
    "    # Treinando o modelo: modelo.fit(dados treinamento, rotulação treinamento)\n",
    "    \n",
    "\n",
    "    # Prevendo os valores para os dados de teste: predicao = modelo.predict(dados teste)\n",
    "\n",
    "    # Calculando o erro quadrático médio (MSE): mse = mean_squared_error(rotulação teste, predição)\n"
   ]
  },
  {
   "cell_type": "code",
   "execution_count": 4,
   "id": "81b9731c",
   "metadata": {},
   "outputs": [],
   "source": [
    "# Calculando a média dos erros quadráticos médios obtidos na validação cruzada K-fold\n",
    "# Sintaxe: media_mse = np.mean(lista)\n"
   ]
  },
  {
   "cell_type": "code",
   "execution_count": null,
   "id": "7468b53f",
   "metadata": {},
   "outputs": [],
   "source": []
  }
 ],
 "metadata": {
  "kernelspec": {
   "display_name": "Python 3 (ipykernel)",
   "language": "python",
   "name": "python3"
  },
  "language_info": {
   "codemirror_mode": {
    "name": "ipython",
    "version": 3
   },
   "file_extension": ".py",
   "mimetype": "text/x-python",
   "name": "python",
   "nbconvert_exporter": "python",
   "pygments_lexer": "ipython3",
   "version": "3.11.4"
  }
 },
 "nbformat": 4,
 "nbformat_minor": 5
}
