{
 "cells": [
  {
   "cell_type": "code",
   "execution_count": 1,
   "id": "ca639493",
   "metadata": {},
   "outputs": [],
   "source": [
    "from sklearn.datasets import load_breast_cancer\n",
    "from sklearn.model_selection import train_test_split\n",
    "from sklearn.naive_bayes import GaussianNB\n",
    "from sklearn.preprocessing import StandardScaler, MinMaxScaler\n",
    "from sklearn.metrics import accuracy_score\n",
    "\n",
    "# Carregando o dataset de diabetes\n",
    "data = load_breast_cancer()\n",
    "X, y = data.data, data.target\n",
    "\n",
    "# Dividindo os dados em conjuntos de treino e teste (80% treino, 20% teste)\n",
    "X_train, X_test, y_train, y_test = train_test_split(X, y, test_size=0.2, random_state=42)"
   ]
  },
  {
   "cell_type": "code",
   "execution_count": null,
   "id": "0527654a",
   "metadata": {},
   "outputs": [],
   "source": [
    "# Inicializando os objetos para padronização e normalização\n",
    "# Sintaxe: scaler_padrao = StandardScaler()\n",
    "#          Scaler_norma = MinMaxScaler()"
   ]
  },
  {
   "cell_type": "code",
   "execution_count": null,
   "id": "e0e7f798",
   "metadata": {},
   "outputs": [],
   "source": [
    "# Padronização nos dados de treino e teste\n",
    "# Sintaxe: X_train_padrao = scaler_padrao.fit_transform(dados de treinamento)\n",
    "#          X_test_padrao = scaler_norma.transform(dados de teste)"
   ]
  },
  {
   "cell_type": "code",
   "execution_count": null,
   "id": "39411dba",
   "metadata": {},
   "outputs": [],
   "source": [
    "# Normalização nos dados de treino e teste\n",
    "# Sintaxe: X_train_norma = scaler_norma.fit_transform(dados de treinamento)\n",
    "#          X_test_norma = scaler_norma.transform(dados de teste)"
   ]
  },
  {
   "cell_type": "code",
   "execution_count": null,
   "id": "ead74e92",
   "metadata": {},
   "outputs": [],
   "source": [
    "# Inicializando modelos de Gaussian Naive Bayes\n",
    "# Sintaxe: modelo_padrao / modelo_norma = GaussianNB()"
   ]
  },
  {
   "cell_type": "code",
   "execution_count": null,
   "id": "ec9c3276",
   "metadata": {},
   "outputs": [],
   "source": [
    "# Treinando os modelos com dados padronizados e normalizados\n",
    "# Sintaxe: modelo_padrao/norma.fit(dados treinamento padronizados/normalizados, rotulação treinamento)"
   ]
  },
  {
   "cell_type": "code",
   "execution_count": null,
   "id": "69f19010",
   "metadata": {},
   "outputs": [],
   "source": [
    "# Prevendo os rótulos para os dados de teste\n",
    "# Sintaxe: predicao_padrao/norma = modelo_padrao/norma.predict(dados treinamento padronizados/normalizados)"
   ]
  },
  {
   "cell_type": "code",
   "execution_count": 10,
   "id": "f2dad87b",
   "metadata": {},
   "outputs": [],
   "source": [
    "# Calculando a acurácia nos dados de teste\n",
    "# Sintaxe: accuracy_score(y_test, predicao_padrao/norma)"
   ]
  },
  {
   "cell_type": "code",
   "execution_count": null,
   "id": "60366657",
   "metadata": {},
   "outputs": [],
   "source": []
  }
 ],
 "metadata": {
  "kernelspec": {
   "display_name": "Python 3 (ipykernel)",
   "language": "python",
   "name": "python3"
  },
  "language_info": {
   "codemirror_mode": {
    "name": "ipython",
    "version": 3
   },
   "file_extension": ".py",
   "mimetype": "text/x-python",
   "name": "python",
   "nbconvert_exporter": "python",
   "pygments_lexer": "ipython3",
   "version": "3.11.4"
  }
 },
 "nbformat": 4,
 "nbformat_minor": 5
}
