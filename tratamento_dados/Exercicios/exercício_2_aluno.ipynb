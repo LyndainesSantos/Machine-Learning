{
 "cells": [
  {
   "cell_type": "code",
   "execution_count": 3,
   "id": "ebe9dec9",
   "metadata": {},
   "outputs": [],
   "source": [
    "from sklearn.datasets import load_breast_cancer\n",
    "from sklearn.impute import SimpleImputer\n",
    "import numpy as np"
   ]
  },
  {
   "cell_type": "code",
   "execution_count": 4,
   "id": "5a71be49",
   "metadata": {},
   "outputs": [],
   "source": [
    "# Carregar conjunto de dados\n",
    "dados = load_breast_cancer()\n",
    "X, y = dados.data, dados.target"
   ]
  },
  {
   "cell_type": "code",
   "execution_count": 5,
   "id": "8697137e",
   "metadata": {},
   "outputs": [],
   "source": [
    "# Introduzir valores ausentes em algumas amostras\n",
    "index_faltantes = [2, 14, 28, 45, 78]\n",
    "X_dados_faltantes = X.copy()\n",
    "X_dados_faltantes[index_faltantes] = np.nan"
   ]
  },
  {
   "cell_type": "code",
   "execution_count": 6,
   "id": "f1dbe83f",
   "metadata": {},
   "outputs": [],
   "source": [
    "# Imputar valores ausentes usando SimpleImputer com estratégia 'mean', 'median' ou 'most_frequent'\n",
    "# Sintaxe: objeto = SimpleImputer(strategy='nome_estratégia')\n"
   ]
  },
  {
   "cell_type": "code",
   "execution_count": 7,
   "id": "1687111f",
   "metadata": {},
   "outputs": [],
   "source": [
    "# Aplicar o objeto imputer aos dados faltantes\n",
    "# Sintaxe: nome_variável = imputer.fit_transform(X_with_missing)\n"
   ]
  },
  {
   "cell_type": "code",
   "execution_count": 9,
   "id": "5a9ae2f9",
   "metadata": {},
   "outputs": [],
   "source": [
    "# Resultado\n",
    "# Sintaxe: dados_faltantes[index] e dados_imputados[index] (devido ao tamanho do dataset)\n"
   ]
  },
  {
   "cell_type": "code",
   "execution_count": null,
   "id": "5585b08f",
   "metadata": {},
   "outputs": [],
   "source": []
  }
 ],
 "metadata": {
  "kernelspec": {
   "display_name": "Python 3 (ipykernel)",
   "language": "python",
   "name": "python3"
  },
  "language_info": {
   "codemirror_mode": {
    "name": "ipython",
    "version": 3
   },
   "file_extension": ".py",
   "mimetype": "text/x-python",
   "name": "python",
   "nbconvert_exporter": "python",
   "pygments_lexer": "ipython3",
   "version": "3.11.4"
  }
 },
 "nbformat": 4,
 "nbformat_minor": 5
}
