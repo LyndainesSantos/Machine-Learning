{
 "cells": [
  {
   "cell_type": "code",
   "execution_count": 1,
   "id": "fcf89611",
   "metadata": {},
   "outputs": [
    {
     "name": "stdout",
     "output_type": "stream",
     "text": [
      "Acurácias de cada fold: [0.9230769230769231, 0.945054945054945, 0.945054945054945, 0.9340659340659341, 0.9230769230769231]\n",
      "Média das acurácias: 0.9340659340659341\n",
      "Acurácia no conjunto de teste: 0.9649122807017544\n"
     ]
    }
   ],
   "source": [
    "from sklearn.datasets import load_breast_cancer\n",
    "from sklearn.model_selection import train_test_split, KFold\n",
    "from sklearn.naive_bayes import GaussianNB\n",
    "from sklearn.metrics import accuracy_score\n",
    "\n",
    "# Carregando o dataset de câncer de mama\n",
    "data = load_breast_cancer()\n",
    "X, y = data.data, data.target\n",
    "\n",
    "# Dividindo os dados em conjuntos de treino e teste (80% treino, 20% teste)\n",
    "X_train, X_test, y_train, y_test = train_test_split(X, y, test_size=0.2, random_state=42)\n",
    "\n",
    "# Inicializando o modelo de Naive Bayes Gaussiano\n",
    "model = GaussianNB()\n",
    "\n",
    "# Definindo o número de folds (k)\n",
    "k = 5\n",
    "\n",
    "# Inicializando o objeto KFold no conjunto de treino\n",
    "kf = KFold(n_splits=k)\n",
    "\n",
    "# Lista para armazenar as acurácias de cada fold\n",
    "accuracies = []\n",
    "\n",
    "# Iterando sobre os folds no conjunto de treino\n",
    "for train_index, val_index in kf.split(X_train):\n",
    "    X_train_fold, X_val = X_train[train_index], X_train[val_index]\n",
    "    y_train_fold, y_val = y_train[train_index], y_train[val_index]\n",
    "\n",
    "    # Treinando o modelo com o fold atual\n",
    "    model.fit(X_train_fold, y_train_fold)\n",
    "\n",
    "    # Prevendo os rótulos para os dados de validação (fold)\n",
    "    y_pred = model.predict(X_val)\n",
    "\n",
    "    # Calculando a acurácia e armazenando\n",
    "    acc = accuracy_score(y_val, y_pred)\n",
    "    accuracies.append(acc)\n",
    "\n",
    "# Calculando a média das acurácias obtidas na validação cruzada K-fold\n",
    "mean_accuracy = sum(accuracies) / len(accuracies)\n",
    "print(f\"Acurácias de cada fold: {accuracies}\")\n",
    "print(f\"Média das acurácias: {mean_accuracy}\")\n",
    "\n",
    "# Avaliando no conjunto de teste separado\n",
    "y_pred_test = model.predict(X_test)\n",
    "accuracy_test = accuracy_score(y_test, y_pred_test)\n",
    "print(f\"Acurácia no conjunto de teste: {accuracy_test}\")\n"
   ]
  },
  {
   "cell_type": "code",
   "execution_count": null,
   "id": "ddfe83b2",
   "metadata": {},
   "outputs": [],
   "source": []
  },
  {
   "cell_type": "code",
   "execution_count": null,
   "id": "dd97459c",
   "metadata": {},
   "outputs": [],
   "source": []
  }
 ],
 "metadata": {
  "kernelspec": {
   "display_name": "Python 3 (ipykernel)",
   "language": "python",
   "name": "python3"
  },
  "language_info": {
   "codemirror_mode": {
    "name": "ipython",
    "version": 3
   },
   "file_extension": ".py",
   "mimetype": "text/x-python",
   "name": "python",
   "nbconvert_exporter": "python",
   "pygments_lexer": "ipython3",
   "version": "3.11.4"
  }
 },
 "nbformat": 4,
 "nbformat_minor": 5
}
