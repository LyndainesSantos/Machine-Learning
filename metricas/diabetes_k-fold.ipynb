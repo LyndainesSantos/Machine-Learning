{
 "cells": [
  {
   "cell_type": "code",
   "execution_count": 5,
   "id": "1197d5db",
   "metadata": {},
   "outputs": [
    {
     "name": "stdout",
     "output_type": "stream",
     "text": [
      "Erros quadráticos médios (MSE) de cada fold: [2762.621430352032, 3478.9008207107413, 3476.77511582725, 3113.8725758927703, 2881.0533261619266]\n",
      "Média dos erros quadráticos médios (MSE): 3142.6446537889437\n"
     ]
    }
   ],
   "source": [
    "from sklearn.datasets import load_diabetes\n",
    "from sklearn.model_selection import train_test_split, KFold\n",
    "from sklearn.linear_model import LinearRegression\n",
    "from sklearn.metrics import mean_squared_error\n",
    "import numpy as np\n",
    "\n",
    "# Carregando o dataset de diabetes\n",
    "data = load_diabetes()\n",
    "X, y = data.data, data.target\n",
    "\n",
    "X_train, X_test, y_train, y_test = train_test_split(X, y, test_size=0.2, random_state=42)\n",
    "\n",
    "# Inicializando o modelo de Regressão Linear\n",
    "model = LinearRegression()\n",
    "\n",
    "# Definindo o número de folds (k)\n",
    "k = 5\n",
    "\n",
    "# Inicializando o objeto KFold\n",
    "kf = KFold(n_splits=k)\n",
    "\n",
    "# Lista para armazenar os erros quadráticos médios (MSE) de cada fold\n",
    "mse_scores = []\n",
    "\n",
    "# Iterando sobre os folds\n",
    "for train_index, test_index in kf.split(X_train):\n",
    "    X_train, X_test = X[train_index], X[test_index]\n",
    "    y_train, y_test = y[train_index], y[test_index]\n",
    "\n",
    "    # Treinando o modelo\n",
    "    model.fit(X_train, y_train)\n",
    "\n",
    "    # Prevendo os valores para os dados de teste\n",
    "    y_pred = model.predict(X_test)\n",
    "\n",
    "    # Calculando o erro quadrático médio (MSE)\n",
    "    mse = mean_squared_error(y_test, y_pred)\n",
    "    mse_scores.append(mse)\n",
    "\n",
    "# Calculando a média dos erros quadráticos médios obtidos na validação cruzada K-fold\n",
    "mean_mse = np.mean(mse_scores)\n",
    "print(f\"Erros quadráticos médios (MSE) de cada fold: {mse_scores}\")\n",
    "print(f\"Média dos erros quadráticos médios (MSE): {mean_mse}\")\n"
   ]
  },
  {
   "cell_type": "code",
   "execution_count": 6,
   "id": "bf93337c",
   "metadata": {},
   "outputs": [],
   "source": [
    "y_pred_train = model.predict(X_train)"
   ]
  },
  {
   "cell_type": "code",
   "execution_count": 7,
   "id": "c4f67918",
   "metadata": {},
   "outputs": [
    {
     "data": {
      "text/plain": [
       "2877.193247335066"
      ]
     },
     "execution_count": 7,
     "metadata": {},
     "output_type": "execute_result"
    }
   ],
   "source": [
    "mean_squared_error(y_train, y_pred_train)"
   ]
  },
  {
   "cell_type": "code",
   "execution_count": null,
   "id": "81b9731c",
   "metadata": {},
   "outputs": [],
   "source": []
  }
 ],
 "metadata": {
  "kernelspec": {
   "display_name": "Python 3 (ipykernel)",
   "language": "python",
   "name": "python3"
  },
  "language_info": {
   "codemirror_mode": {
    "name": "ipython",
    "version": 3
   },
   "file_extension": ".py",
   "mimetype": "text/x-python",
   "name": "python",
   "nbconvert_exporter": "python",
   "pygments_lexer": "ipython3",
   "version": "3.11.4"
  }
 },
 "nbformat": 4,
 "nbformat_minor": 5
}
