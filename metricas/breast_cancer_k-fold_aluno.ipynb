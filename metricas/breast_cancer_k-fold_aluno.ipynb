{
 "cells": [
  {
   "cell_type": "code",
   "execution_count": 12,
   "id": "fcf89611",
   "metadata": {},
   "outputs": [],
   "source": [
    "from sklearn.datasets import load_breast_cancer\n",
    "from sklearn.model_selection import train_test_split, KFold\n",
    "from sklearn.naive_bayes import GaussianNB\n",
    "from sklearn.metrics import accuracy_score\n",
    "\n",
    "# Carregando o dataset de câncer de mama\n",
    "data = load_breast_cancer()\n",
    "X, y = data.data, data.target\n",
    "\n",
    "# Dividindo os dados em conjuntos de treino e teste (80% treino, 20% teste)\n",
    "X_train, X_test, y_train, y_test = train_test_split(X, y, test_size=0.2, random_state=42)\n",
    "\n",
    "# Inicializando o modelo de Naive Bayes Gaussiano\n",
    "model = GaussianNB()\n"
   ]
  },
  {
   "cell_type": "code",
   "execution_count": 13,
   "id": "c24fe4fc",
   "metadata": {},
   "outputs": [],
   "source": [
    "# Inicializando o objeto KFold no conjunto de treino\n",
    "#Sintaxe: kf = KFold(n_splits=número de folds)\n"
   ]
  },
  {
   "cell_type": "code",
   "execution_count": 14,
   "id": "c717ba4a",
   "metadata": {},
   "outputs": [],
   "source": [
    "# Lista para armazenar as acurácias de cada fold\n",
    "#Sintaxe: nome_da_lista = []\n"
   ]
  },
  {
   "cell_type": "code",
   "execution_count": 15,
   "id": "1661b312",
   "metadata": {},
   "outputs": [],
   "source": [
    "# Iterando sobre os folds no conjunto de treino\n"
   ]
  },
  {
   "cell_type": "code",
   "execution_count": 16,
   "id": "da3d55f2",
   "metadata": {},
   "outputs": [],
   "source": [
    "# Calculando a média das acurácias obtidas na validação cruzada K-fold\n"
   ]
  },
  {
   "cell_type": "code",
   "execution_count": null,
   "id": "2e56109f",
   "metadata": {},
   "outputs": [],
   "source": []
  }
 ],
 "metadata": {
  "kernelspec": {
   "display_name": "Python 3 (ipykernel)",
   "language": "python",
   "name": "python3"
  },
  "language_info": {
   "codemirror_mode": {
    "name": "ipython",
    "version": 3
   },
   "file_extension": ".py",
   "mimetype": "text/x-python",
   "name": "python",
   "nbconvert_exporter": "python",
   "pygments_lexer": "ipython3",
   "version": "3.11.4"
  }
 },
 "nbformat": 4,
 "nbformat_minor": 5
}
