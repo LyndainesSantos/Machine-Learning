{
 "cells": [
  {
   "cell_type": "code",
   "execution_count": 2,
   "id": "ca639493",
   "metadata": {},
   "outputs": [
    {
     "name": "stdout",
     "output_type": "stream",
     "text": [
      "Acurácia do GaussianNB com Padronização: 0.9649122807017544\n",
      "Acurácia do GaussianNB com Normalização: 0.9649122807017544\n"
     ]
    }
   ],
   "source": [
    "from sklearn.datasets import load_breast_cancer\n",
    "from sklearn.model_selection import train_test_split\n",
    "from sklearn.naive_bayes import GaussianNB\n",
    "from sklearn.preprocessing import StandardScaler, MinMaxScaler\n",
    "from sklearn.metrics import accuracy_score\n",
    "\n",
    "# Carregando o dataset de diabetes\n",
    "data = load_breast_cancer()\n",
    "X, y = data.data, data.target\n",
    "\n",
    "# Dividindo os dados em conjuntos de treino e teste (80% treino, 20% teste)\n",
    "X_train, X_test, y_train, y_test = train_test_split(X, y, test_size=0.2, random_state=42)\n",
    "\n",
    "# Inicializando os objetos para padronização e normalização\n",
    "scaler_standard = StandardScaler()\n",
    "scaler_minmax = MinMaxScaler()\n",
    "\n",
    "# Padronização nos dados de treino e teste\n",
    "X_train_standard = scaler_standard.fit_transform(X_train)\n",
    "X_test_standard = scaler_standard.transform(X_test)\n",
    "\n",
    "# Normalização nos dados de treino e teste\n",
    "X_train_minmax = scaler_minmax.fit_transform(X_train)\n",
    "X_test_minmax = scaler_minmax.transform(X_test)\n",
    "\n",
    "# Inicializando modelos de Gaussian Naive Bayes\n",
    "model_standard = GaussianNB()\n",
    "model_minmax = GaussianNB()\n",
    "\n",
    "# Treinando os modelos com dados padronizados e normalizados\n",
    "model_standard.fit(X_train_standard, y_train)\n",
    "model_minmax.fit(X_train_minmax, y_train)\n",
    "\n",
    "# Prevendo os rótulos para os dados de teste\n",
    "y_pred_standard = model_standard.predict(X_test_standard)\n",
    "y_pred_minmax = model_minmax.predict(X_test_minmax)\n",
    "\n",
    "# Calculando a acurácia nos dados de teste\n",
    "accuracy_standard = accuracy_score(y_test, y_pred_standard)\n",
    "accuracy_minmax = accuracy_score(y_test, y_pred_minmax)\n",
    "\n",
    "print(f\"Acurácia do GaussianNB com Padronização: {accuracy_standard}\")\n",
    "print(f\"Acurácia do GaussianNB com Normalização: {accuracy_minmax}\")\n"
   ]
  },
  {
   "cell_type": "code",
   "execution_count": null,
   "id": "0527654a",
   "metadata": {},
   "outputs": [],
   "source": [
    "\n"
   ]
  },
  {
   "cell_type": "code",
   "execution_count": null,
   "id": "e0e7f798",
   "metadata": {},
   "outputs": [],
   "source": []
  }
 ],
 "metadata": {
  "kernelspec": {
   "display_name": "Python 3 (ipykernel)",
   "language": "python",
   "name": "python3"
  },
  "language_info": {
   "codemirror_mode": {
    "name": "ipython",
    "version": 3
   },
   "file_extension": ".py",
   "mimetype": "text/x-python",
   "name": "python",
   "nbconvert_exporter": "python",
   "pygments_lexer": "ipython3",
   "version": "3.11.4"
  }
 },
 "nbformat": 4,
 "nbformat_minor": 5
}
