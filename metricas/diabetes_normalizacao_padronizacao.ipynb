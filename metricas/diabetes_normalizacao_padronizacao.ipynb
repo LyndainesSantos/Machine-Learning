{
 "cells": [
  {
   "cell_type": "code",
   "execution_count": 1,
   "id": "6e38e199",
   "metadata": {},
   "outputs": [
    {
     "name": "stdout",
     "output_type": "stream",
     "text": [
      "Score da Regressão Linear com Padronização: 0.45260276297191926\n",
      "Score da Regressão Linear com Normalização: 0.4526027629719195\n"
     ]
    }
   ],
   "source": [
    "from sklearn.datasets import load_diabetes\n",
    "from sklearn.model_selection import train_test_split\n",
    "from sklearn.linear_model import LinearRegression\n",
    "from sklearn.preprocessing import StandardScaler, MinMaxScaler\n",
    "\n",
    "# Carregando o dataset de diabetes\n",
    "data = load_diabetes()\n",
    "X, y = data.data, data.target\n",
    "\n",
    "# Dividindo os dados em conjuntos de treino e teste (80% treino, 20% teste)\n",
    "X_train, X_test, y_train, y_test = train_test_split(X, y, test_size=0.2, random_state=42)\n",
    "\n",
    "# Inicializando os objetos para padronização e normalização\n",
    "scaler_standard = StandardScaler()\n",
    "scaler_minmax = MinMaxScaler()\n",
    "\n",
    "# Padronização nos dados de treino e teste\n",
    "X_train_standard = scaler_standard.fit_transform(X_train)\n",
    "X_test_standard = scaler_standard.transform(X_test)\n",
    "\n",
    "# Normalização nos dados de treino e teste\n",
    "X_train_minmax = scaler_minmax.fit_transform(X_train)\n",
    "X_test_minmax = scaler_minmax.transform(X_test)\n",
    "\n",
    "# Inicializando modelos de Regressão Linear\n",
    "model_standard = LinearRegression()\n",
    "model_minmax = LinearRegression()\n",
    "\n",
    "# Treinando os modelos com dados padronizados e normalizados\n",
    "model_standard.fit(X_train_standard, y_train)\n",
    "model_minmax.fit(X_train_minmax, y_train)\n",
    "\n",
    "# Avaliando o desempenho nos dados de teste\n",
    "score_standard = model_standard.score(X_test_standard, y_test)\n",
    "score_minmax = model_minmax.score(X_test_minmax, y_test)\n",
    "\n",
    "print(f\"Score da Regressão Linear com Padronização: {score_standard}\")\n",
    "print(f\"Score da Regressão Linear com Normalização: {score_minmax}\")\n"
   ]
  },
  {
   "cell_type": "code",
   "execution_count": null,
   "id": "2c4d04ed",
   "metadata": {},
   "outputs": [],
   "source": []
  }
 ],
 "metadata": {
  "kernelspec": {
   "display_name": "Python 3 (ipykernel)",
   "language": "python",
   "name": "python3"
  },
  "language_info": {
   "codemirror_mode": {
    "name": "ipython",
    "version": 3
   },
   "file_extension": ".py",
   "mimetype": "text/x-python",
   "name": "python",
   "nbconvert_exporter": "python",
   "pygments_lexer": "ipython3",
   "version": "3.11.4"
  }
 },
 "nbformat": 4,
 "nbformat_minor": 5
}
