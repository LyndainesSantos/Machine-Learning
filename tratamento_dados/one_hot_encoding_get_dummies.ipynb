{
 "cells": [
  {
   "cell_type": "code",
   "execution_count": 1,
   "id": "935055f4",
   "metadata": {},
   "outputs": [
    {
     "name": "stdout",
     "output_type": "stream",
     "text": [
      "DataFrame Original:\n",
      "    frutas\n",
      "0     maçã\n",
      "1   banana\n",
      "2  laranja\n",
      "3     maçã\n",
      "4  laranja\n",
      "\n",
      "DataFrame com One-Hot Encoding:\n",
      "   frutas_banana  frutas_laranja  frutas_maçã\n",
      "0              0               0            1\n",
      "1              1               0            0\n",
      "2              0               1            0\n",
      "3              0               0            1\n",
      "4              0               1            0\n"
     ]
    }
   ],
   "source": [
    "import pandas as pd\n",
    "\n",
    "# Criando um DataFrame de exemplo com uma variável categórica\n",
    "data = {'frutas': ['maçã', 'banana', 'laranja', 'maçã', 'laranja']}\n",
    "df = pd.DataFrame(data)\n",
    "\n",
    "# Aplicando o One-Hot Encoding usando a função get_dummies do Pandas\n",
    "df_encoded = pd.get_dummies(df, columns=['frutas'])\n",
    "\n",
    "print(\"DataFrame Original:\")\n",
    "print(df)\n",
    "print(\"\\nDataFrame com One-Hot Encoding:\")\n",
    "print(df_encoded)"
   ]
  },
  {
   "cell_type": "code",
   "execution_count": null,
   "id": "2a20d330",
   "metadata": {},
   "outputs": [],
   "source": []
  }
 ],
 "metadata": {
  "kernelspec": {
   "display_name": "Python 3 (ipykernel)",
   "language": "python",
   "name": "python3"
  },
  "language_info": {
   "codemirror_mode": {
    "name": "ipython",
    "version": 3
   },
   "file_extension": ".py",
   "mimetype": "text/x-python",
   "name": "python",
   "nbconvert_exporter": "python",
   "pygments_lexer": "ipython3",
   "version": "3.11.4"
  }
 },
 "nbformat": 4,
 "nbformat_minor": 5
}
