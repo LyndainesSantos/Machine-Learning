{
 "cells": [
  {
   "cell_type": "code",
   "execution_count": 1,
   "id": "7cd0d8b8",
   "metadata": {},
   "outputs": [],
   "source": [
    "from sklearn.datasets import load_iris\n",
    "from sklearn.impute import SimpleImputer\n",
    "import numpy as np"
   ]
  },
  {
   "cell_type": "code",
   "execution_count": 2,
   "id": "4c0860da",
   "metadata": {},
   "outputs": [],
   "source": [
    "# Carregar conjunto de dados Iris\n",
    "iris = load_iris()\n",
    "X, y = iris.data, iris.target"
   ]
  },
  {
   "cell_type": "code",
   "execution_count": 3,
   "id": "a752698e",
   "metadata": {},
   "outputs": [],
   "source": [
    "# Introduzir valores ausentes em algumas amostras\n",
    "index_faltantes = [0, 5, 10]\n",
    "X_dados_faltantes = X.copy()\n",
    "X_dados_faltantes[index_faltantes] = np.nan"
   ]
  },
  {
   "cell_type": "code",
   "execution_count": 4,
   "id": "c42b5970",
   "metadata": {},
   "outputs": [],
   "source": [
    "# Imputar valores ausentes usando SimpleImputer com estratégia 'mean', 'median' ou 'most_frequent'\n",
    "# Sintaxe: objeto = SimpleImputer(strategy='nome_estratégia')\n",
    "imputer = SimpleImputer(strategy='mean')"
   ]
  },
  {
   "cell_type": "code",
   "execution_count": 5,
   "id": "949338ef",
   "metadata": {},
   "outputs": [],
   "source": [
    "# Aplicar o objeto imputer aos dados faltantes\n",
    "# Sintaxe: nome_variável = imputer.fit_transform(X_with_missing)\n",
    "X_imputed = imputer.fit_transform(X_dados_faltantes)"
   ]
  },
  {
   "cell_type": "code",
   "execution_count": 6,
   "id": "fe30e070",
   "metadata": {},
   "outputs": [
    {
     "name": "stdout",
     "output_type": "stream",
     "text": [
      "Amostras originais com dados faltantes:\n",
      "[[nan nan nan nan]\n",
      " [nan nan nan nan]\n",
      " [nan nan nan nan]]\n",
      "\n",
      "Amostras imputadas:\n",
      "[[5.85442177 3.04421769 3.80340136 1.21836735]\n",
      " [5.85442177 3.04421769 3.80340136 1.21836735]\n",
      " [5.85442177 3.04421769 3.80340136 1.21836735]]\n"
     ]
    }
   ],
   "source": [
    "# Resultado\n",
    "# Sintaxe: dados_faltantes[index] e dados_imputados[index] (devido ao tamanho do dataset)\n",
    "print(\"Amostras originais com dados faltantes:\")\n",
    "print(X_dados_faltantes[index_faltantes])\n",
    "print(\"\\nAmostras imputadas:\")\n",
    "print(X_imputed[index_faltantes])"
   ]
  },
  {
   "cell_type": "code",
   "execution_count": null,
   "id": "fe3b79a6",
   "metadata": {},
   "outputs": [],
   "source": []
  }
 ],
 "metadata": {
  "kernelspec": {
   "display_name": "Python 3 (ipykernel)",
   "language": "python",
   "name": "python3"
  },
  "language_info": {
   "codemirror_mode": {
    "name": "ipython",
    "version": 3
   },
   "file_extension": ".py",
   "mimetype": "text/x-python",
   "name": "python",
   "nbconvert_exporter": "python",
   "pygments_lexer": "ipython3",
   "version": "3.11.4"
  }
 },
 "nbformat": 4,
 "nbformat_minor": 5
}
