{
 "cells": [
  {
   "cell_type": "code",
   "execution_count": 1,
   "id": "6e38e199",
   "metadata": {},
   "outputs": [],
   "source": [
    "from sklearn.datasets import load_diabetes\n",
    "from sklearn.model_selection import train_test_split\n",
    "from sklearn.linear_model import LinearRegression\n",
    "from sklearn.preprocessing import StandardScaler, MinMaxScaler\n",
    "\n",
    "# Carregando o dataset de diabetes\n",
    "data = load_diabetes()\n",
    "X, y = data.data, data.target\n",
    "\n",
    "# Dividindo os dados em conjuntos de treino e teste (80% treino, 20% teste)\n",
    "X_train, X_test, y_train, y_test = train_test_split(X, y, test_size=0.2, random_state=42)\n"
   ]
  },
  {
   "cell_type": "code",
   "execution_count": 2,
   "id": "2c4d04ed",
   "metadata": {},
   "outputs": [],
   "source": [
    "# Inicializando os objetos para padronização e normalização\n",
    "# Sintaxe: scaler_padrao = StandardScaler()\n",
    "#          Scaler_norma = MinMaxScaler()"
   ]
  },
  {
   "cell_type": "code",
   "execution_count": 3,
   "id": "43e724e6",
   "metadata": {},
   "outputs": [],
   "source": [
    "# Padronização nos dados de treino e teste\n",
    "# Sintaxe: X_train_padrao = scaler_padrao.fit_transform(dados de treinamento)\n",
    "#          X_test_padrao = scaler_norma.transform(dados de teste)\n"
   ]
  },
  {
   "cell_type": "code",
   "execution_count": 4,
   "id": "a0f59f9c",
   "metadata": {},
   "outputs": [],
   "source": [
    "# Normalização nos dados de treino e teste\n",
    "# Sintaxe: X_train_norma = scaler_norma.fit_transform(dados de treinamento)\n",
    "#          X_test_norma = scaler_norma.transform(dados de teste)\n"
   ]
  },
  {
   "cell_type": "code",
   "execution_count": 5,
   "id": "ba5a109d",
   "metadata": {},
   "outputs": [],
   "source": [
    "# Inicializando modelos de Regressão Linear\n",
    "# Sintaxe: modelo_padrao / modelo_norma = LinearRegression()\n"
   ]
  },
  {
   "cell_type": "code",
   "execution_count": 6,
   "id": "285e0e59",
   "metadata": {},
   "outputs": [],
   "source": [
    "# Treinando os modelos com dados padronizados e normalizados\n",
    "# Sintaxe: modelo_padrao/norma.fit(dados treinamento padronizados/normalizados, rotulação treinamento)\n"
   ]
  },
  {
   "cell_type": "code",
   "execution_count": 7,
   "id": "f72369eb",
   "metadata": {},
   "outputs": [],
   "source": [
    "# Avaliando o desempenho nos dados de teste\n",
    "# Sintaxe: score_padrao/norma = modelo_padrao/norma.score(dados padronizados/normalizados, y_test)"
   ]
  },
  {
   "cell_type": "code",
   "execution_count": null,
   "id": "8e8be9dd",
   "metadata": {},
   "outputs": [],
   "source": []
  }
 ],
 "metadata": {
  "kernelspec": {
   "display_name": "Python 3 (ipykernel)",
   "language": "python",
   "name": "python3"
  },
  "language_info": {
   "codemirror_mode": {
    "name": "ipython",
    "version": 3
   },
   "file_extension": ".py",
   "mimetype": "text/x-python",
   "name": "python",
   "nbconvert_exporter": "python",
   "pygments_lexer": "ipython3",
   "version": "3.11.4"
  }
 },
 "nbformat": 4,
 "nbformat_minor": 5
}
