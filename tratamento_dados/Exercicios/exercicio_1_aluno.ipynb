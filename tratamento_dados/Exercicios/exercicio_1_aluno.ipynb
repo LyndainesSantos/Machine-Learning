{
 "cells": [
  {
   "cell_type": "code",
   "execution_count": null,
   "id": "4fc28ef1",
   "metadata": {},
   "outputs": [],
   "source": [
    "from sklearn.datasets import load_iris\n",
    "from sklearn.impute import SimpleImputer\n",
    "import numpy as np"
   ]
  },
  {
   "cell_type": "code",
   "execution_count": null,
   "id": "0f686034",
   "metadata": {},
   "outputs": [],
   "source": [
    "# Carregar conjunto de dados Iris\n",
    "iris = load_iris()\n",
    "X, y = iris.data, iris.target"
   ]
  },
  {
   "cell_type": "code",
   "execution_count": null,
   "id": "0f094bfc",
   "metadata": {},
   "outputs": [],
   "source": [
    "# Introduzir valores ausentes em algumas amostras\n",
    "index_faltantes = [0, 5, 10]\n",
    "X_dados_faltantes = X.copy()\n",
    "X_dados_faltantes[index_faltantes] = np.nan"
   ]
  },
  {
   "cell_type": "code",
   "execution_count": null,
   "id": "50d8aefa",
   "metadata": {},
   "outputs": [],
   "source": [
    "# Imputar valores ausentes usando SimpleImputer com estratégia 'mean'\n",
    "# Sintaxe: objeto = SimpleImputer(strategy='nome_estratégia')\n"
   ]
  },
  {
   "cell_type": "code",
   "execution_count": null,
   "id": "d653743d",
   "metadata": {},
   "outputs": [],
   "source": [
    "# Aplicar o objeto imputer aos dados faltantes\n",
    "# Sintaxe: nome_variável = imputer.fit_transform(X_with_missing)\n"
   ]
  },
  {
   "cell_type": "code",
   "execution_count": null,
   "id": "6c69f299",
   "metadata": {},
   "outputs": [],
   "source": [
    "# Resultado\n",
    "# Sintaxe: dados_faltantes[index] e dados_imputados[index] (devido ao tamanho do dataset)\n"
   ]
  }
 ],
 "metadata": {
  "kernelspec": {
   "display_name": "Python 3 (ipykernel)",
   "language": "python",
   "name": "python3"
  },
  "language_info": {
   "codemirror_mode": {
    "name": "ipython",
    "version": 3
   },
   "file_extension": ".py",
   "mimetype": "text/x-python",
   "name": "python",
   "nbconvert_exporter": "python",
   "pygments_lexer": "ipython3",
   "version": "3.11.4"
  }
 },
 "nbformat": 4,
 "nbformat_minor": 5
}
